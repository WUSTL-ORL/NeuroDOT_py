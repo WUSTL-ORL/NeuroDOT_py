{
 "cells": [
  {
   "attachments": {},
   "cell_type": "markdown",
   "metadata": {},
   "source": [
    "### NeuroDOT_py Preprocessing Script\n",
    " This script includes details on the Preprocessing pipeline. <br>\n",
    " A file of sample data is already designated below, but you can use the \"loadmat_py function to load your own optical data in 'mat' file format. <br>\n",
    " In order to load the sample file, change the path below in the \"sys.path.insert\" lines to the folder under which you have NeuroDOT_py installed."
   ]
  },
  {
   "cell_type": "code",
   "execution_count": null,
   "metadata": {},
   "outputs": [],
   "source": [
    "# Install all required libraries for running NeuroDOT (only needs to be done on first use)\n",
    "!pip3 install -r ../requirements.txt"
   ]
  },
  {
   "cell_type": "code",
   "execution_count": null,
   "metadata": {},
   "outputs": [],
   "source": [
    "# General imports\n",
    "import sys\n",
    "import math\n",
    "import os\n",
    "import shutil\n",
    "import json\n",
    "\n",
    "\n",
    "import numpy as np\n",
    "import numpy.linalg as la\n",
    "import matplotlib.pyplot as plt\n",
    "import matplotlib.gridspec as gridspec\n",
    "import matplotlib.colors as colors\n",
    "import scipy.interpolate\n",
    "import numpy.matlib as mlb\n",
    "import numpy.matlib as nm\n",
    "import functools as ft\n",
    "\n",
    "from math import trunc\n",
    "from pickle import NONE\n",
    "from numpy import float64, matrix\n",
    "from numpy.lib.shape_base import expand_dims\n",
    "from matplotlib.pyplot import colorbar, colormaps\n",
    "from mpl_toolkits.axes_grid1 import make_axes_locatable\n",
    "from mpl_toolkits.axes_grid1.inset_locator import inset_axes\n",
    "from mpl_toolkits.mplot3d import Axes3D\n",
    "\n",
    "# Import NeuroDOT_Py\n",
    "import neuro_dot as ndot"
   ]
  },
  {
   "cell_type": "code",
   "execution_count": null,
   "metadata": {},
   "outputs": [],
   "source": [
    "# To get started, edit this cell for folder paths; EDIT AT THE BEGINNING ONLY\n",
    "saveImages = 'yes' # Options are yes/no to save output figures (must be lowercase 'yes' or 'no')\n",
    "saveImagePath =\"./Output\" # Path to folder to save output, figures will be saved to subdirectory called 'Output_Images'\n",
    "saveNoteBookPath = \"./Output\" # Path to folder to save output, Jupyter Notebook will be saved to subdirectory called 'Output_Notebook'"
   ]
  },
  {
   "cell_type": "code",
   "execution_count": null,
   "metadata": {},
   "outputs": [],
   "source": [
    "# To get started, edit this cell for folder paths; EDIT AT THE BEGINNING ONLY\n",
    "saveImages = 'yes' # Options are yes/no to save output figures (must be lowercase 'yes' or 'no')\n",
    "saveImagePath =\"./outputfiles\" # Path to folder to save output, figures will be saved to subdirectory called 'Output_Images'\n",
    "saveNoteBookPath = \"./outputfiles\" # Path to folder to save output, Jupyter Notebook will be saved to subdirectory called 'Output_Notebook'\n",
    "\n",
    "# RUN THIS CELL ONLY ONCE IF YOU CHOOSE TO RE RUN THE CELL ABOVE FIRST\n",
    "if saveImages == 'yes':\n",
    "    saveImagePath = saveImagePath + '/Output_Images/'\n",
    "    if not os.path.exists(saveImagePath): \n",
    "        os.makedirs(saveImagePath)\n",
    "    # The code below is only relevant for use with XNAT container\n",
    "    saveNoteBookPath = saveNoteBookPath + '/Output_Notebook/'\n",
    "    if not os.path.exists(saveNoteBookPath):\n",
    "        os.makedirs(saveNoteBookPath)\n",
    "else:\n",
    "    print('SAVED IMAGES IS SET TO NO. NO IMAGES WILL BE SAVED.')"
   ]
  },
  {
   "cell_type": "code",
   "execution_count": null,
   "metadata": {},
   "outputs": [],
   "source": [
    "# TO MAKE CHANGES TO FIGURES, EDIT ONLY THIS CELL\n",
    "participant_data = \"/input/subjectdata.mat\"  # Path to data; an example data set has been provided here\n",
    "params_file = \"./Data/params.txt\"\n",
    "a = \"\"\n",
    "with open(params_file) as f:\n",
    "    for line in f: \n",
    "        a = a + line.strip()\n",
    "params = json.loads(a)\n",
    "# If you want to change an individual or a few params, just follow syntax below (NOTE: make changes before 'print' statements to confirm dictionary updates): \n",
    "# params['bthresh'] = 0.075\n",
    "print(\"Params being used: \\n\")\n",
    "print(params)\n",
    "params = {'bthresh':0.075,'det':1, 'highpass':1, 'lowpass1':1, 'ssr':1, 'lowpass2':1, 'DoGVTD':1, 'resample': 1, 'omega_hp': 0.02, 'omega_lp1': 1, 'omega_lp2': 0.5,'freqout': 1, 'rstol': 1e-5 ,'DQC_ONLY': 0, 'omega_resample': 1} "
   ]
  },
  {
   "cell_type": "code",
   "execution_count": null,
   "metadata": {},
   "outputs": [],
   "source": [
    "# Load your data file, or one of the provided data samples using the absolute path to the file (.mat format)\n",
    "data_path = os.path.join(os.path.dirname(sys.path[0]),'Data',participant_data)\n",
    "data = ndot.loadmat(data_path)['data'] \n",
    "__info = ndot.loadmat(data_path)['info'] \n",
    "tag = participant_data.split(\"/\")[-1].split(\"_\")[-1][:-4]\n",
    "flags = ndot.loadmat(data_path)['flags']"
   ]
  },
  {
   "cell_type": "code",
   "execution_count": null,
   "metadata": {},
   "outputs": [],
   "source": [
    "# Set parameters for A and block length for quick processing examples\n",
    "if 'CCW1' in participant_data or 'CCW2' in participant_data or 'CW1' in participant_data or 'OUT' in participant_data:\n",
    "    params['dt']=36                     # Block length\n",
    "    params['tp']=16                     # Example (block averaged) time point\n",
    "if 'IN1' in participant_data:\n",
    "    params['dt']=36                     # Block length\n",
    "    params['tp']=32                     # Example (block averaged) time point\n",
    "\n",
    "if  'HW1'in participant_data or'HW2' in participant_data or'RW1' in participant_data or'GV1'in participant_data or'HW3_Noisy' in participant_data:\n",
    "    params['dt']=30                     # Block length\n",
    "    params['tp']=16                     # Example (block averaged) time point\n",
    "\n",
    "# Make sure params correspond to the data type\n",
    "print('dt:', params['dt'])\n",
    "print('tp:', params['tp'])"
   ]
  },
  {
   "cell_type": "code",
   "execution_count": null,
   "metadata": {},
   "outputs": [],
   "source": [
    "params_time_traces = params.copy()\n",
    "params_metricsII = params.copy()\n",
    "params_cap = params.copy()\n",
    "\n",
    "ndot.Plot_RawData_Time_Traces_Overview(data,__info, params_time_traces)   # Time traces\n",
    "filename = saveImagePath +'Time_Traces_Overview' +'_' + tag + '.png'\n",
    "if saveImages == 'yes':\n",
    "    plt.savefig(filename,format = 'png')\n",
    "\n",
    "ndot.Plot_RawData_Metrics_II_DQC(data,__info, params_metricsII)         # Spectrum, falloff, and good signal metric\n",
    "filename = saveImagePath +'RawData_Metrics_II' +'_' + tag + '.png'\n",
    "if saveImages == 'yes':\n",
    "    plt.savefig(filename,format = 'png')\n",
    "    \n",
    "__info_out = ndot.Plot_RawData_Cap_DQC(data,__info, params_cap)   # Cap-relevant views\n",
    "filename = saveImagePath +'RawData_Cap_DQC' +'_' + tag + '.png'\n",
    "if saveImages == 'yes':\n",
    "    plt.savefig(filename,format = 'png')"
   ]
  },
  {
   "cell_type": "code",
   "execution_count": null,
   "metadata": {},
   "outputs": [],
   "source": [
    "## Logmean Light Levels\n",
    "lmdata = ndot.logmean(data)[0]"
   ]
  },
  {
   "cell_type": "code",
   "execution_count": null,
   "metadata": {},
   "outputs": [],
   "source": [
    "## Detect Noisy Channels\n",
    "info = ndot.FindGoodMeas(lmdata, __info, 0.075)\n",
    "\n",
    "# Example visualization\n",
    "keep = np.logical_and(np.logical_and(np.where(info['pairs']['WL'] == 2,1,0), np.where(info['pairs']['r2d'] < 40,1,0)), info['MEAS']['GI']) # measurements to include\n",
    "\n",
    "ndot.DynamicFilter(data,info, params,'fft_lml', saveImages,saveImagePath)"
   ]
  },
  {
   "cell_type": "code",
   "execution_count": null,
   "metadata": {},
   "outputs": [],
   "source": [
    "## Show nn1, nn2, nn3 (plots)\n",
    "ndot.nlrGrayPlots_220324(lmdata,info)\n",
    "filename = saveImagePath +'nlrGrayPlots_lml' +'_' + tag + '.png'\n",
    "\n",
    "if saveImages == 'yes':\n",
    "    plt.savefig(filename,format = 'png')"
   ]
  },
  {
   "cell_type": "code",
   "execution_count": null,
   "metadata": {},
   "outputs": [],
   "source": [
    "ndot.DynamicFilter(data,info, params,'lml', saveImages,saveImagePath)"
   ]
  },
  {
   "cell_type": "code",
   "execution_count": null,
   "metadata": {},
   "outputs": [],
   "source": [
    "## Detrend and High-pass Filter the Data\n",
    "ndot.DynamicFilter(data,info, params,'fft_dt_hp', saveImages,saveImagePath)"
   ]
  },
  {
   "cell_type": "code",
   "execution_count": null,
   "metadata": {},
   "outputs": [],
   "source": [
    "ndot.DynamicFilter(data,info, params,'high_pass', saveImages,saveImagePath)"
   ]
  },
  {
   "cell_type": "code",
   "execution_count": null,
   "metadata": {},
   "outputs": [],
   "source": [
    "## Low Pass Filter 1\n",
    "ndot.DynamicFilter(data,info, params,'low_pass_fft', saveImages,saveImagePath)"
   ]
  },
  {
   "cell_type": "code",
   "execution_count": null,
   "metadata": {},
   "outputs": [],
   "source": [
    "ndot.DynamicFilter(data,info, params,'low_pass', saveImages,saveImagePath)"
   ]
  },
  {
   "cell_type": "code",
   "execution_count": null,
   "metadata": {},
   "outputs": [],
   "source": [
    "## Superficial Signal Regression\n",
    "ndot.DynamicFilter(data,info, params,'fft_superficial_signal', saveImages,saveImagePath)"
   ]
  },
  {
   "cell_type": "code",
   "execution_count": null,
   "metadata": {},
   "outputs": [],
   "source": [
    "# Generate 2 subplots\n",
    "fig = plt.figure(dpi = 100, tight_layout = True)\n",
    "ddata = ndot.detrend_tts(lmdata)\n",
    "hpdata = ndot.highpass(ddata, params['omega_hp'], info['system']['framerate'])\n",
    "lp1data = ndot.lowpass(hpdata, params['omega_lp1'], info['system']['framerate']) \n",
    "hem = ndot.gethem(lp1data, info)\n",
    "gs = gridspec.GridSpec(2,1)\n",
    "ax1 =  plt.subplot(gs[0,0])\n",
    "ax2 =  plt.subplot(gs[1,0])\n",
    "\n",
    "ax1.plot(hem[1,:], linewidth = 0.5)\n",
    "ax1.set_title('Estimated common superficial signal')\n",
    "ax1.set_xlabel('Time (samples)')\n",
    "arr1 = hem[1,:]\n",
    "arr = np.reshape(arr1, (1,np.size(arr1)))\n",
    "ftdomain,ftmag,_,_ = ndot.fft_tts(arr,info['system']['framerate']) \n",
    "ftmag = np.reshape(ftmag, (len(ftdomain)))\n",
    "ax2.semilogx(ftdomain,ftmag, linewidth = 0.5)\n",
    "ax2.set_xlabel('Frequency (Hz)')\n",
    "ax2.set_ylabel('|X(f)|') # plot vs. log frequency\n",
    "ax2.set_xlim([1e-3, 10])\n",
    "\n",
    "filename = saveImagePath +'fft_SSR'+'_' + tag + '.png'\n",
    "if saveImages == 'yes':\n",
    "    plt.savefig(filename, facecolor = 'white',format = 'png')"
   ]
  },
  {
   "cell_type": "code",
   "execution_count": null,
   "metadata": {},
   "outputs": [],
   "source": [
    "ndot.DynamicFilter(data,info, params,'superficial_signal', saveImages,saveImagePath)"
   ]
  },
  {
   "cell_type": "code",
   "execution_count": null,
   "metadata": {},
   "outputs": [],
   "source": [
    "## Low Pass Filter 2\n",
    "ndot.DynamicFilter(data,info,params,'fft_low_pass2', saveImages,saveImagePath)"
   ]
  },
  {
   "cell_type": "code",
   "execution_count": null,
   "metadata": {},
   "outputs": [],
   "source": [
    "info_new = ndot.DynamicFilter(data,info,params, 'fft_resample', saveImages,saveImagePath)"
   ]
  },
  {
   "cell_type": "code",
   "execution_count": null,
   "metadata": {},
   "outputs": [],
   "source": [
    "info_new = ndot.DynamicFilter(data,info, params,'resample', saveImages,saveImagePath)"
   ]
  },
  {
   "cell_type": "code",
   "execution_count": null,
   "metadata": {},
   "outputs": [],
   "source": [
    "info_new = ndot.DynamicFilter(data,info,params, 'fft_ba', saveImages,saveImagePath)"
   ]
  },
  {
   "cell_type": "code",
   "execution_count": null,
   "metadata": {},
   "outputs": [],
   "source": [
    "info_new = ndot.DynamicFilter(data,info,params, 'ba',saveImages,saveImagePath)"
   ]
  }
 ],
 "metadata": {
  "kernelspec": {
   "display_name": "base",
   "language": "python",
   "name": "python3"
  },
  "language_info": {
   "codemirror_mode": {
    "name": "ipython",
    "version": 3
   },
   "file_extension": ".py",
   "mimetype": "text/x-python",
   "name": "python",
   "nbconvert_exporter": "python",
   "pygments_lexer": "ipython3",
   "version": "3.8.8"
  },
  "orig_nbformat": 4
 },
 "nbformat": 4,
 "nbformat_minor": 2
}
